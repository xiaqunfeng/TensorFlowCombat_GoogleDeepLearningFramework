{
 "cells": [
  {
   "cell_type": "markdown",
   "metadata": {},
   "source": [
    "在tf中，队列不仅是一种数据结构，它更提供了多线程机制。队列也是多线程输入数据处理框架的基础。\n",
    "\n",
    "队列和变量类似，都是计算图上有状态的节点。\n",
    "\n",
    "* 变量状态修改方法：赋值操作\n",
    "* 队列状态修改方法：Enqueue、EnqueueMany和Eequeue\n",
    "\n",
    "TensorFlow有两种队列：\n",
    "* tf.FIFOQueue：先进先出队列\n",
    "* tf.RandomShuffleQueue：随机调度队列"
   ]
  },
  {
   "cell_type": "code",
   "execution_count": 1,
   "metadata": {},
   "outputs": [],
   "source": [
    "import tensorflow as tf"
   ]
  },
  {
   "cell_type": "markdown",
   "metadata": {},
   "source": [
    "#### 1. 创建队列，并操作里面的元素。"
   ]
  },
  {
   "cell_type": "code",
   "execution_count": 2,
   "metadata": {},
   "outputs": [
    {
     "name": "stdout",
     "output_type": "stream",
     "text": [
      "0\n",
      "10\n",
      "1\n",
      "11\n",
      "2\n"
     ]
    }
   ],
   "source": [
    "# 创建一个FIFO队列，队列中最多2个元素，类型为int32\n",
    "q = tf.FIFOQueue(2, \"int32\")\n",
    "# enqueue_many初始化队列中的元素\n",
    "init = q.enqueue_many(([0, 10], ))\n",
    "# dequeue把第一个元素0出队列，并将其值保存到变量x\n",
    "x = q.dequeue()\n",
    "y = x + 1\n",
    "# enqueue把1插入到队列\n",
    "q_inc = q.enqueue([y])\n",
    "with tf.Session() as sess:\n",
    "    # 运行初始化队列\n",
    "    init.run()\n",
    "    for _ in range(5):\n",
    "        v, _ = sess.run([x, q_inc])\n",
    "        print(v)"
   ]
  },
  {
   "cell_type": "markdown",
   "metadata": {},
   "source": [
    "tf提供了 tf.train.Coordinator 和 tf.train.QueueRunner两个类来完成多线程协同的功能。\n",
    "\n",
    "tf.train.Coordinator 主要用于协同多个线程一起停止，并提供了三个函数：should_stop、request_stop和join\n",
    "* 在启动线程之前，需要声明一个Coordinator类，并将该类传入每一个创建的线程中。\n",
    "* 启动的线程需要一直查询Coordinator类中提供的should_stop函数，当该函数返回true时，则当前线程也需要退出。\n",
    "* 当某一个线程调用request_stop函数之后，should_stop函数的返回值将被设置为True，这样其他的线程就可以同时中止了。"
   ]
  },
  {
   "cell_type": "code",
   "execution_count": 3,
   "metadata": {},
   "outputs": [],
   "source": [
    "import numpy as np\n",
    "import threading\n",
    "import time"
   ]
  },
  {
   "cell_type": "markdown",
   "metadata": {},
   "source": [
    "#### 2. 这个程序每隔1秒判断是否需要停止并打印自己的ID。"
   ]
  },
  {
   "cell_type": "code",
   "execution_count": 4,
   "metadata": {},
   "outputs": [],
   "source": [
    "# 每隔1秒判断是否需要停止并打印自己的ID\n",
    "def MyLoop(coord, worker_id):\n",
    "    # 判断当前线程是否需要停止\n",
    "    while not coord.should_stop():\n",
    "        # 随机停止所有的线程\n",
    "        if np.random.rand()<0.1:\n",
    "            print(\"Stoping from id: %d\\n\" % worker_id)\n",
    "            # 调用request_stop来通知其他线程停止\n",
    "            coord.request_stop()\n",
    "        else:\n",
    "            print(\"Working on id: %d\\n\" % worker_id)\n",
    "        time.sleep(1)"
   ]
  },
  {
   "cell_type": "markdown",
   "metadata": {},
   "source": [
    "#### 3. 创建、启动并退出线程。"
   ]
  },
  {
   "cell_type": "code",
   "execution_count": 5,
   "metadata": {},
   "outputs": [
    {
     "name": "stdout",
     "output_type": "stream",
     "text": [
      "Working on id: 1\n",
      "\n",
      "Working on id: 0\n",
      "\n",
      "Working on id: 2\n",
      "\n",
      "Stoping from id: 3\n",
      "\n"
     ]
    }
   ],
   "source": [
    "# 声明一个Coordinator类来协同多个线程\n",
    "coord = tf.train.Coordinator()\n",
    "# 声明创建5个线程\n",
    "threads = [threading.Thread(target=MyLoop, args=(coord, i, )) for i in range(5)]\n",
    "# 启动所有线程\n",
    "for t in threads:t.start()\n",
    "# 等待所有线程退出\n",
    "coord.join(threads)"
   ]
  },
  {
   "cell_type": "code",
   "execution_count": null,
   "metadata": {},
   "outputs": [],
   "source": []
  }
 ],
 "metadata": {
  "kernelspec": {
   "display_name": "Python 3",
   "language": "python",
   "name": "python3"
  },
  "language_info": {
   "codemirror_mode": {
    "name": "ipython",
    "version": 3
   },
   "file_extension": ".py",
   "mimetype": "text/x-python",
   "name": "python",
   "nbconvert_exporter": "python",
   "pygments_lexer": "ipython3",
   "version": "3.6.5"
  },
  "varInspector": {
   "cols": {
    "lenName": 16,
    "lenType": 16,
    "lenVar": 40
   },
   "kernels_config": {
    "python": {
     "delete_cmd_postfix": "",
     "delete_cmd_prefix": "del ",
     "library": "var_list.py",
     "varRefreshCmd": "print(var_dic_list())"
    },
    "r": {
     "delete_cmd_postfix": ") ",
     "delete_cmd_prefix": "rm(",
     "library": "var_list.r",
     "varRefreshCmd": "cat(var_dic_list()) "
    }
   },
   "types_to_exclude": [
    "module",
    "function",
    "builtin_function_or_method",
    "instance",
    "_Feature"
   ],
   "window_display": false
  }
 },
 "nbformat": 4,
 "nbformat_minor": 1
}
