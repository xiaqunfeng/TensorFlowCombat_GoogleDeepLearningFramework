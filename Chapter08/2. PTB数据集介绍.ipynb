{
 "cells": [
  {
   "cell_type": "markdown",
   "metadata": {},
   "source": [
    "将一个长序列分成batch并截断\n",
    "![ptb](image/ptb.jpg)\n",
    "\n",
    "文件夹下的 `reader.py` 来源于 `tensorflow.models.rnn.ptb`"
   ]
  },
  {
   "cell_type": "code",
   "execution_count": 1,
   "metadata": {},
   "outputs": [],
   "source": [
    "import tensorflow as tf\n",
    "import reader"
   ]
  },
  {
   "cell_type": "markdown",
   "metadata": {},
   "source": [
    "#### 1. 读取数据并打印长度及前100位数据。"
   ]
  },
  {
   "cell_type": "code",
   "execution_count": 2,
   "metadata": {},
   "outputs": [
    {
     "name": "stdout",
     "output_type": "stream",
     "text": [
      "887521\n",
      "[9969, 9970, 9971, 9973, 9974, 9975, 9979, 9980, 9981, 9982, 9983, 9985, 9986, 9987, 9988, 9990, 9991, 9992, 9993, 9994, 9995, 9996, 9997, 9998, 9255, 1, 2, 71, 392, 32, 2132, 0, 145, 18, 5, 9206, 275, 406, 2, 22, 1, 12, 140, 3, 1, 5464, 0, 3080, 1595, 95, 7681, 1, 2, 71, 392, 7, 336, 140, 3, 2476, 656, 2169, 954, 23, 520, 5, 9206, 275, 3, 38, 302, 437, 3683, 5, 941, 3, 3149, 495, 262, 4, 137, 6091, 4240, 6035, 29, 987, 5, 240, 759, 3, 1014, 2785, 210, 5, 95, 3, 430, 4114, 4, 13]\n"
     ]
    }
   ],
   "source": [
    "DATA_PATH = \"../datasets/PTB_data\"\n",
    "train_data, valid_data, test_data, _ = reader.ptb_raw_data(DATA_PATH)\n",
    "print(len(train_data))\n",
    "print(train_data[:100])"
   ]
  },
  {
   "cell_type": "markdown",
   "metadata": {},
   "source": [
    "#### 2. 将训练数据组织成batch大小为4、截断长度为5的数据组。并使用队列读取前3个batch。"
   ]
  },
  {
   "cell_type": "code",
   "execution_count": 3,
   "metadata": {},
   "outputs": [
    {
     "name": "stdout",
     "output_type": "stream",
     "text": [
      "X0:  [[9969 9970 9971 9973 9974]\n",
      " [  38  373    0  653   45]\n",
      " [  25   62  488  169 2234]\n",
      " [   3  405 1341    3   48]]\n",
      "Y0:  [[9970 9971 9973 9974 9975]\n",
      " [ 373    0  653   45 4661]\n",
      " [  62  488  169 2234  374]\n",
      " [ 405 1341    3   48   71]]\n",
      "X1:  [[9975 9979 9980 9981 9982]\n",
      " [4661  160    4 1153    0]\n",
      " [ 374    1    6   38  306]\n",
      " [  71    3 3605    6 9195]]\n",
      "Y1:  [[9979 9980 9981 9982 9983]\n",
      " [ 160    4 1153    0  960]\n",
      " [   1    6   38  306   41]\n",
      " [   3 3605    6 9195    1]]\n",
      "X2:  [[9983 9985 9986 9987 9988]\n",
      " [ 960    6    0 8594   18]\n",
      " [  41   24    4 1145  206]\n",
      " [   1    7 9418  220   18]]\n",
      "Y2:  [[9985 9986 9987 9988 9990]\n",
      " [   6    0 8594   18 1830]\n",
      " [  24    4 1145  206 2841]\n",
      " [   7 9418  220   18    5]]\n"
     ]
    }
   ],
   "source": [
    "# ptb_producer返回的为一个二维的tuple数据。\n",
    "result = reader.ptb_producer(train_data, 4, 5)\n",
    "\n",
    "# 通过队列依次读取batch。\n",
    "with tf.Session() as sess:\n",
    "    coord = tf.train.Coordinator()\n",
    "    threads = tf.train.start_queue_runners(sess=sess, coord=coord)\n",
    "    for i in range(3):\n",
    "        x, y = sess.run(result)\n",
    "        print(\"X%d: \"%i, x)\n",
    "        print(\"Y%d: \"%i, y)\n",
    "    coord.request_stop()\n",
    "    coord.join(threads)"
   ]
  },
  {
   "cell_type": "code",
   "execution_count": null,
   "metadata": {},
   "outputs": [],
   "source": []
  }
 ],
 "metadata": {
  "kernelspec": {
   "display_name": "Python 3",
   "language": "python",
   "name": "python3"
  },
  "language_info": {
   "codemirror_mode": {
    "name": "ipython",
    "version": 3
   },
   "file_extension": ".py",
   "mimetype": "text/x-python",
   "name": "python",
   "nbconvert_exporter": "python",
   "pygments_lexer": "ipython3",
   "version": "3.6.5"
  }
 },
 "nbformat": 4,
 "nbformat_minor": 1
}
