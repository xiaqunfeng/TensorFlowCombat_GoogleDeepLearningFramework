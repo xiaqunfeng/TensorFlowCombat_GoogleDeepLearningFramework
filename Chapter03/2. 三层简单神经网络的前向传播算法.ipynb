{
 "cells": [
  {
   "cell_type": "markdown",
   "metadata": {},
   "source": [
    "###  3.4 神经网络\n",
    "\n",
    "变量：tf.Variable，变量的作用是保存和更新神经网络中的参数，需要初始化。\n",
    "\n",
    "变量的声明函数是一个运算，该运算的结果是一个张量。所以变量只是一种特殊的张量。\n",
    "\n",
    "示例：通过变量实现神经网络的参数，并实现前向传播"
   ]
  },
  {
   "cell_type": "code",
   "execution_count": 2,
   "metadata": {},
   "outputs": [
    {
     "name": "stdout",
     "output_type": "stream",
     "text": [
      "[[3.957578]]\n"
     ]
    }
   ],
   "source": [
    "import tensorflow as tf\n",
    "\n",
    "# 声明两个变量。通过seed参数设定随机种子\n",
    "w1= tf.Variable(tf.random_normal([2, 3], stddev=1, seed=1))\n",
    "w2= tf.Variable(tf.random_normal([3, 1], stddev=1, seed=1))\n",
    "\n",
    "# 将入参定义为参量\n",
    "x = tf.constant([[0.7, 0.9]])\n",
    "\n",
    "# 通过前向传播算法获得神经网络的输出\n",
    "a = tf.matmul(x, w1)\n",
    "y = tf.matmul(a, w2)\n",
    "\n",
    "sess = tf.Session()\n",
    "# 因为w1和w2还没初始化，所以不能直接通过 sess.run(y)来获取y的值\n",
    "sess.run(w1.initializer)  # 初始化w1\n",
    "sess.run(w2.initializer)  # 初始化w2\n",
    "print(sess.run(y))  \n",
    "sess.close()"
   ]
  },
  {
   "cell_type": "markdown",
   "metadata": {},
   "source": [
    "更便捷的方式完成变量初始化：tf.initialize_all_variable 函数\n",
    "\n",
    "优点：不需要一个有一个初始化变量；自动处理变量之间的依赖关系。\n",
    "\n",
    "```\n",
    "init_op = tf.initialize_all_variable()\n",
    "sess.run(init_op)\n",
    "```"
   ]
  },
  {
   "cell_type": "markdown",
   "metadata": {
    "collapsed": true
   },
   "source": [
    "**placeholder** \n",
    "\n",
    "每生成一个常量，tf都会在计算图中增加一个节点。训练中每轮迭代中选取的数据都要通过常量来表示。\n",
    "\n",
    "placeholder：相当于定义了一个位置，这个位置中的数据在程序运行时再指定。这样程序中就不需要生成大量常量来提供输入数据，而只需要将数据通过placeholder传入tf计算图。\n",
    "\n",
    "示例：通过placeholder 实现前向传播"
   ]
  },
  {
   "cell_type": "code",
   "execution_count": 7,
   "metadata": {},
   "outputs": [
    {
     "name": "stdout",
     "output_type": "stream",
     "text": [
      "[[1.2116898 ]\n",
      " [0.36900944]\n",
      " [0.978915  ]]\n"
     ]
    }
   ],
   "source": [
    "import tensorflow as tf\n",
    "\n",
    "w1= tf.Variable(tf.random_normal([2, 3], stddev=1))\n",
    "w2= tf.Variable(tf.random_normal([3, 1], stddev=1))\n",
    "\n",
    "# 定义placeholder作为存放输入数据的地方\n",
    "# 维度shape不一定要定义。但如果维度是确定的，给出维度可以降低出错的概率\n",
    "#x = tf.placeholder(tf.float32, shape=(1,2), name=\"input\")\n",
    "x = tf.placeholder(tf.float32, shape=(3,2), name=\"input\")\n",
    "a = tf.matmul(x, w1)\n",
    "y = tf.matmul(a, w2)\n",
    "\n",
    "sess = tf.Session()\n",
    "init_op = tf.initialize_all_variables()\n",
    "sess.run(init_op)\n",
    "\n",
    "# InvalidArgumentError: You must feed a value for placeholder \n",
    "# tensor 'input' with dtype float and shape [1,2]\n",
    "# print(sess.run(y))\n",
    "\n",
    "# feed_dict 来指定x的取值\n",
    "#print(sess.run(y, feed_dict={x: [[0.7, 0.9]]}))\n",
    "print(sess.run(y, feed_dict={x: [[0.7,0.9], [0.1,0.4], [0.5,0.8]]}))\n",
    "sess.close()"
   ]
  },
  {
   "cell_type": "code",
   "execution_count": 6,
   "metadata": {},
   "outputs": [
    {
     "name": "stdout",
     "output_type": "stream",
     "text": [
      "None\n",
      "[[1.4607782]]\n",
      "[[1.4607782]]\n"
     ]
    }
   ],
   "source": [
    "x = tf.placeholder(tf.float32, shape=(1, 2), name=\"input\")\n",
    "a = tf.matmul(x, w1)\n",
    "y = tf.matmul(a, w2)\n",
    "\n",
    "# 使用 with 的方式\n",
    "with tf.Session().as_default() as sess:\n",
    "    init_op = tf.global_variables_initializer()\n",
    "    print(sess.run(init_op))\n",
    "    # 两种输出结果的方法\n",
    "    print(sess.run(y, feed_dict={x: [[0.7, 0.9]]}))\n",
    "    print(y.eval(feed_dict={x: [[.7,.9]]}))"
   ]
  },
  {
   "cell_type": "markdown",
   "metadata": {},
   "source": [
    "得到一个batch的前向传播结果后，需要一个损失函数来刻画当前的预测值和真实答案之间的差距。然后通过反向传播算法来调整神经网络参数的取值使得差距可以被缩小。"
   ]
  }
 ],
 "metadata": {
  "kernelspec": {
   "display_name": "Python 3",
   "language": "python",
   "name": "python3"
  },
  "language_info": {
   "codemirror_mode": {
    "name": "ipython",
    "version": 3
   },
   "file_extension": ".py",
   "mimetype": "text/x-python",
   "name": "python",
   "nbconvert_exporter": "python",
   "pygments_lexer": "ipython3",
   "version": "3.6.5"
  },
  "varInspector": {
   "cols": {
    "lenName": 16,
    "lenType": 16,
    "lenVar": 40
   },
   "kernels_config": {
    "python": {
     "delete_cmd_postfix": "",
     "delete_cmd_prefix": "del ",
     "library": "var_list.py",
     "varRefreshCmd": "print(var_dic_list())"
    },
    "r": {
     "delete_cmd_postfix": ") ",
     "delete_cmd_prefix": "rm(",
     "library": "var_list.r",
     "varRefreshCmd": "cat(var_dic_list()) "
    }
   },
   "types_to_exclude": [
    "module",
    "function",
    "builtin_function_or_method",
    "instance",
    "_Feature"
   ],
   "window_display": false
  }
 },
 "nbformat": 4,
 "nbformat_minor": 1
}
