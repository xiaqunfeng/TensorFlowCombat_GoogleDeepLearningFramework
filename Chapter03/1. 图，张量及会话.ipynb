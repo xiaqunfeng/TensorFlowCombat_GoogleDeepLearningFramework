{
 "cells": [
  {
   "cell_type": "markdown",
   "metadata": {},
   "source": [
    "### 3.1 计算图\n",
    "\n",
    "tensorflow是一个通过计算图的形式来表述计算的编程系统。每一个计算都是计算图上的一个节点，节点之间的边描述了计算之间的依赖关系。\n",
    "\n",
    "程序一般分为两个阶段：\n",
    "\n",
    "第一阶段：定义计算图中所有的计算；\n",
    "\n",
    "第二阶段：执行计算。"
   ]
  },
  {
   "cell_type": "code",
   "execution_count": 5,
   "metadata": {},
   "outputs": [
    {
     "name": "stdout",
     "output_type": "stream",
     "text": [
      "Tensor(\"add_4:0\", shape=(2,), dtype=float32)\n",
      "<tensorflow.python.framework.ops.Graph object at 0x109071a20>\n",
      "True\n"
     ]
    }
   ],
   "source": [
    "import tensorflow as tf\n",
    "a = tf.constant([1.0, 2.0], name=\"a\")\n",
    "b = tf.constant([2.0, 3.0], name=\"b\")\n",
    "result = a + b\n",
    "print(result)\n",
    "\n",
    "# 通过 a.graph 可以查看张量所属的计算图\n",
    "print(a.graph)\n",
    "\n",
    "# 因为没有特意指定，所以这个计算图应该等于当前默认的计算图\n",
    "# tf.get_default_graph() 获取当前默认的计算图\n",
    "print(a.graph is tf.get_default_graph())"
   ]
  },
  {
   "cell_type": "markdown",
   "metadata": {},
   "source": [
    "tf.Graph 生成新的计算图。不同计算图上的张量和运算都不会共享。\n",
    "\n",
    "示例：在不同计算图上定义和使用变量"
   ]
  },
  {
   "cell_type": "code",
   "execution_count": 7,
   "metadata": {
    "code_folding": []
   },
   "outputs": [
    {
     "name": "stdout",
     "output_type": "stream",
     "text": [
      "[0.]\n",
      "[1.]\n"
     ]
    }
   ],
   "source": [
    "import tensorflow as tf\n",
    "\n",
    "g1 = tf.Graph()\n",
    "with g1.as_default():\n",
    "    # 在计算图 g1 上定义变量 “v”, 并设置初始值为0\n",
    "    v = tf.get_variable(\"v\", [1], initializer = tf.zeros_initializer()) \n",
    "\n",
    "g2 = tf.Graph()\n",
    "with g2.as_default():\n",
    "    # 在计算图 g2 上定义变量 “v”, 并设置初始值为1\n",
    "    v = tf.get_variable(\"v\", [1], initializer = tf.ones_initializer())  \n",
    "\n",
    "# 在计算图 g1 中读取变量 “v” 的值\n",
    "with tf.Session(graph = g1) as sess:\n",
    "    tf.global_variables_initializer().run()\n",
    "    with tf.variable_scope(\"\", reuse=True):\n",
    "        print(sess.run(tf.get_variable(\"v\")))\n",
    "\n",
    "# 在计算图 g2 中读取变量 “v” 的值\n",
    "with tf.Session(graph = g2) as sess:\n",
    "    tf.global_variables_initializer().run()\n",
    "    with tf.variable_scope(\"\", reuse=True):\n",
    "        print(sess.run(tf.get_variable(\"v\")))\n",
    "        "
   ]
  },
  {
   "cell_type": "markdown",
   "metadata": {},
   "source": [
    "计算图不仅可以用来隔离张量和计算，还提供了管理张量和计算的机制。\n",
    "\n",
    "计算图可以通过 tf.Graph.device 函数来指定运行计算的设备。\n",
    "\n",
    "```\n",
    "g = tf.Graph()\n",
    "# 指定运行的设备\n",
    "with g.device('/gpu:0'):\n",
    "    result = a + b\n",
    "```"
   ]
  },
  {
   "cell_type": "code",
   "execution_count": 2,
   "metadata": {},
   "outputs": [
    {
     "name": "stdout",
     "output_type": "stream",
     "text": [
      "[ 1.  2.]\n"
     ]
    }
   ],
   "source": [
    "sess = tf.InteractiveSession() \n",
    "v = tf.Variable([1,2], dtype=tf.float32)\n",
    "sess.run(tf.global_variables_initializer())\n",
    "print(v.eval())\n",
    "sess.close()"
   ]
  },
  {
   "cell_type": "markdown",
   "metadata": {
    "collapsed": true
   },
   "source": [
    "### 3.2 张量\n",
    "所有的数据都通过张量的形式来表示。张量在功能上可以理解为多维数组。（注：张量的类型也可以是字符串）\n",
    "\n",
    "在tf中张量的实现并不是直接采用数组的形式，它只是对tf中运算结果的引用。在张量中，并没有真正保存数字，它保存的是如何得到这些数字的计算过程。"
   ]
  },
  {
   "cell_type": "code",
   "execution_count": 9,
   "metadata": {},
   "outputs": [
    {
     "name": "stdout",
     "output_type": "stream",
     "text": [
      "result: Tensor(\"add_6:0\", shape=(2,), dtype=float32)\n"
     ]
    }
   ],
   "source": [
    "import tensorflow as tf\n",
    "# tf.constant 是一个计算，这个计算的结果为一个张量\n",
    "a = tf.constant([1.0, 2.0], name=\"a\")\n",
    "b = tf.constant([2.0, 3.0], name=\"b\")\n",
    "result = a + b\n",
    "print(\"result:\", result)"
   ]
  },
  {
   "cell_type": "markdown",
   "metadata": {},
   "source": [
    "以上可以看出，tf计算出的结果是一个张量的结构，主要保存了三个属性：name, shape, type\n",
    "\n",
    "name: 张量的唯一标识符，同时给出该张量是如何计算出来的；\n",
    "\n",
    "shape: 描述了张量的维度信息；\n",
    "\n",
    "type: 张量的唯一类型。"
   ]
  },
  {
   "cell_type": "markdown",
   "metadata": {},
   "source": [
    "### 3.3 会话\n",
    "执行定义好的运算。拥有并管理tf运行时的所有资源。"
   ]
  },
  {
   "cell_type": "code",
   "execution_count": 10,
   "metadata": {},
   "outputs": [
    {
     "name": "stdout",
     "output_type": "stream",
     "text": [
      "result.eval() [3. 5.]\n"
     ]
    }
   ],
   "source": [
    "# 交互环境下直接构建默认会话，省去将产生的会话注册为默认会话的过程\n",
    "sess = tf.InteractiveSession ()\n",
    "print(\"result.eval()\", result.eval())\n",
    "sess.close()"
   ]
  },
  {
   "cell_type": "code",
   "execution_count": 11,
   "metadata": {},
   "outputs": [
    {
     "name": "stdout",
     "output_type": "stream",
     "text": [
      "[3. 5.]\n"
     ]
    }
   ],
   "source": [
    "# 创建一个会话。\n",
    "sess = tf.Session()\n",
    "\n",
    "# 使用会话得到之前计算的结果。\n",
    "print(sess.run(result))\n",
    "\n",
    "# 关闭会话使得本次运行中使用到的资源可以被释放。\n",
    "sess.close()"
   ]
  },
  {
   "cell_type": "code",
   "execution_count": 5,
   "metadata": {},
   "outputs": [
    {
     "name": "stdout",
     "output_type": "stream",
     "text": [
      "[ 3.  5.]\n"
     ]
    }
   ],
   "source": [
    "with tf.Session() as sess:\n",
    "    print(sess.run(result))"
   ]
  },
  {
   "cell_type": "code",
   "execution_count": 12,
   "metadata": {},
   "outputs": [
    {
     "name": "stdout",
     "output_type": "stream",
     "text": [
      "[3. 5.]\n"
     ]
    }
   ],
   "source": [
    "# 指定默认会话\n",
    "sess = tf.Session()\n",
    "with sess.as_default():\n",
    "     print(result.eval())\n",
    "\n"
   ]
  },
  {
   "cell_type": "code",
   "execution_count": 7,
   "metadata": {},
   "outputs": [
    {
     "name": "stdout",
     "output_type": "stream",
     "text": [
      "[ 3.  5.]\n",
      "[ 3.  5.]\n"
     ]
    }
   ],
   "source": [
    "sess = tf.Session()\n",
    "\n",
    "# 下面的两个命令有相同的功能。\n",
    "print(sess.run(result))\n",
    "print(result.eval(session=sess))"
   ]
  },
  {
   "cell_type": "markdown",
   "metadata": {},
   "source": [
    "通过configProto配置参数\n",
    "\n",
    "allow_soft_placement: bool, 默认为false。在有GPU的环境中，一般设置为true。当某些运算无法被当前GPU支持时，可以自动调整到CPU上，而不是报错。\n",
    "\n",
    "log_device_placement: bool。当为true时，日志中将积累每个节点被安排在哪个设备上方便调试。"
   ]
  },
  {
   "cell_type": "code",
   "execution_count": 9,
   "metadata": {
    "collapsed": true
   },
   "outputs": [],
   "source": [
    "config=tf.ConfigProto(allow_soft_placement=True, log_device_placement=True)\n",
    "sess1 = tf.InteractiveSession(config=config)\n",
    "sess2 = tf.Session(config=config)"
   ]
  }
 ],
 "metadata": {
  "kernelspec": {
   "display_name": "Python 3",
   "language": "python",
   "name": "python3"
  },
  "language_info": {
   "codemirror_mode": {
    "name": "ipython",
    "version": 3
   },
   "file_extension": ".py",
   "mimetype": "text/x-python",
   "name": "python",
   "nbconvert_exporter": "python",
   "pygments_lexer": "ipython3",
   "version": "3.6.5"
  },
  "varInspector": {
   "cols": {
    "lenName": 16,
    "lenType": 16,
    "lenVar": 40
   },
   "kernels_config": {
    "python": {
     "delete_cmd_postfix": "",
     "delete_cmd_prefix": "del ",
     "library": "var_list.py",
     "varRefreshCmd": "print(var_dic_list())"
    },
    "r": {
     "delete_cmd_postfix": ") ",
     "delete_cmd_prefix": "rm(",
     "library": "var_list.r",
     "varRefreshCmd": "cat(var_dic_list()) "
    }
   },
   "types_to_exclude": [
    "module",
    "function",
    "builtin_function_or_method",
    "instance",
    "_Feature"
   ],
   "window_display": false
  }
 },
 "nbformat": 4,
 "nbformat_minor": 1
}
