{
 "cells": [
  {
   "cell_type": "markdown",
   "metadata": {},
   "source": [
    "### 3.4.5 完整神经网络样例程序\n",
    "示例：神经网络解决二分类问题"
   ]
  },
  {
   "cell_type": "code",
   "execution_count": 1,
   "metadata": {},
   "outputs": [],
   "source": [
    "import tensorflow as tf\n",
    "from numpy.random import RandomState"
   ]
  },
  {
   "cell_type": "markdown",
   "metadata": {},
   "source": [
    "#### 1. 定义神经网络的参数，输入和输出节点\n",
    "在shape的一个维度上使用None可以方便使用不大的batch大小。在训练时需要把数据分成比较小的batch，但是在测试时，可以一次性使用全部数据。当数据集比较小时，这样方便测试，但数据集比较大时，将大量数据放入一个batch可能会导致内存溢出。"
   ]
  },
  {
   "cell_type": "code",
   "execution_count": 2,
   "metadata": {},
   "outputs": [],
   "source": [
    "batch_size = 8\n",
    "dataset_size = 128\n",
    "w1= tf.Variable(tf.random_normal([2, 3], stddev=1, seed=1), trainable=True)\n",
    "w2= tf.Variable(tf.random_normal([3, 1], stddev=1, seed=1), trainable=True)\n",
    "x = tf.placeholder(tf.float32, shape=(None, 2), name=\"x-input\")\n",
    "y_= tf.placeholder(tf.float32, shape=(None, 1), name='y-input')"
   ]
  },
  {
   "cell_type": "markdown",
   "metadata": {},
   "source": [
    "#### 2. 定义前向传播过程，损失函数及反向传播算法"
   ]
  },
  {
   "cell_type": "code",
   "execution_count": 3,
   "metadata": {},
   "outputs": [],
   "source": [
    "a = tf.matmul(x, w1)\n",
    "y = tf.matmul(a, w2)\n",
    "\n",
    "# 定义损失函数和反向传播算法\n",
    "cross_entropy = -tf.reduce_mean(y_ * tf.log(tf.clip_by_value(y, 1e-10, 1.0))) \n",
    "train_step = tf.train.AdamOptimizer(0.001).minimize(cross_entropy)"
   ]
  },
  {
   "cell_type": "markdown",
   "metadata": {},
   "source": [
    "####  3. 生成模拟数据集。\n",
    "定义规则来给出样本的标签。这里所有 x1+x2 < 1 的样本都被认为是正样本。1表示正样本，0表示负样本。"
   ]
  },
  {
   "cell_type": "code",
   "execution_count": 4,
   "metadata": {},
   "outputs": [],
   "source": [
    "rdm = RandomState(1)\n",
    "X = rdm.rand(dataset_size, 2)\n",
    "Y = [[int(x1+x2 < 1)] for (x1, x2) in X]"
   ]
  },
  {
   "cell_type": "markdown",
   "metadata": {},
   "source": [
    "#### 4. 创建一个会话来运行TensorFlow程序。"
   ]
  },
  {
   "cell_type": "code",
   "execution_count": 5,
   "metadata": {},
   "outputs": [
    {
     "name": "stdout",
     "output_type": "stream",
     "text": [
      "w1: [[-0.8113182   1.4845988   0.06532937]\n",
      " [-2.4427042   0.0992484   0.5912243 ]]\n",
      "w2: [[-0.8113182 ]\n",
      " [ 1.4845988 ]\n",
      " [ 0.06532937]]\n",
      "\n",
      "\n",
      "After 0 training step(s), cross entropy on all data is 0.0674925\n",
      "w1: [[-0.8123182   1.4855988   0.06632921]\n",
      " [-2.4437041   0.1002484   0.59222424]]\n",
      "w2: [[-0.8123182 ]\n",
      " [ 1.4855988 ]\n",
      " [ 0.06632937]]\n",
      "After 1000 training step(s), cross entropy on all data is 0.0163385\n",
      "w1: [[-1.2754936  1.9323932  0.7181832]\n",
      " [-2.827644   0.4706616  1.1418985]]\n",
      "w2: [[-1.2119861]\n",
      " [ 1.9595636]\n",
      " [ 0.5508197]]\n",
      "After 2000 training step(s), cross entropy on all data is 0.00907547\n",
      "w1: [[-1.5139761  2.1591146  1.0742906]\n",
      " [-3.0170891  0.6484542  1.46365  ]]\n",
      "w2: [[-1.405064  ]\n",
      " [ 2.2063437 ]\n",
      " [ 0.83948904]]\n",
      "After 3000 training step(s), cross entropy on all data is 0.00714436\n",
      "w1: [[-1.6539441  2.292184   1.2743924]\n",
      " [-3.1415606  0.7646775  1.6682037]]\n",
      "w2: [[-1.5261347]\n",
      " [ 2.3539424]\n",
      " [ 1.019857 ]]\n",
      "After 4000 training step(s), cross entropy on all data is 0.00578471\n",
      "w1: [[-1.7914352   2.4218476   1.4638877 ]\n",
      " [-3.2893898   0.90241855  1.8852748 ]]\n",
      "w2: [[-1.6607391]\n",
      " [ 2.5040684]\n",
      " [ 1.2071174]]\n",
      "After 5000 training step(s), cross entropy on all data is 0.00430222\n",
      "w1: [[-1.9621536  2.5826619  1.6824381]\n",
      " [-3.4685102  1.0701414  2.118307 ]]\n",
      "w2: [[-1.8250271]\n",
      " [ 2.6858096]\n",
      " [ 1.4185809]]\n",
      "After 6000 training step(s), cross entropy on all data is 0.00280812\n",
      "w1: [[-2.1578293  2.7679758  1.9136027]\n",
      " [-3.6696367  1.2602544  2.3558664]]\n",
      "w2: [[-2.0120184]\n",
      " [ 2.8894837]\n",
      " [ 1.6412266]]\n",
      "After 7000 training step(s), cross entropy on all data is 0.00137464\n",
      "w1: [[-2.368575   2.9691818  2.1477168]\n",
      " [-3.8833523  1.4642804  2.5926266]]\n",
      "w2: [[-2.213564 ]\n",
      " [ 3.1054144]\n",
      " [ 1.8673103]]\n",
      "After 8000 training step(s), cross entropy on all data is 2.11566e-05\n",
      "w1: [[-2.5888152  3.1810944  2.3828797]\n",
      " [-4.1050515  1.6776806  2.8288808]]\n",
      "w2: [[-2.4251175]\n",
      " [ 3.328944 ]\n",
      " [ 2.0954447]]\n",
      "After 9000 training step(s), cross entropy on all data is -0\n",
      "w1: [[-2.5939224  3.1860275  2.3882565]\n",
      " [-4.11018    1.6826365  2.8342736]]\n",
      "w2: [[-2.4300373]\n",
      " [ 3.3341115]\n",
      " [ 2.1006744]]\n"
     ]
    }
   ],
   "source": [
    "with tf.Session() as sess:\n",
    "    init_op = tf.global_variables_initializer()\n",
    "    sess.run(init_op)\n",
    "    \n",
    "    # 输出目前（未经训练）的参数取值。\n",
    "    print(\"w1:\", sess.run(w1))\n",
    "    print(\"w2:\", sess.run(w2))\n",
    "    print(\"\\n\")\n",
    "    \n",
    "    # 训练模型。\n",
    "    STEPS = 10000\n",
    "    for i in range(STEPS):\n",
    "        # 每次选取batch_size个样本进行训练\n",
    "        start = (i*batch_size) % dataset_size\n",
    "        end = (i*batch_size) % dataset_size + batch_size\n",
    "        sess.run(train_step, feed_dict={x: X[start:end], y_: Y[start:end]})\n",
    "        # 每隔一段时间计算在所有数据上的交叉熵并输出\n",
    "        if i % 1000 == 0:\n",
    "            total_cross_entropy = sess.run(cross_entropy, feed_dict={x: X, y_: Y})\n",
    "            print(\"After %d training step(s), cross entropy on all data is %g\" % (i, total_cross_entropy))\n",
    "            # 输出训练后的参数取值\n",
    "            print(\"w1:\", sess.run(w1))\n",
    "            print(\"w2:\", sess.run(w2))    \n"
   ]
  },
  {
   "cell_type": "code",
   "execution_count": null,
   "metadata": {
    "collapsed": true
   },
   "outputs": [],
   "source": []
  }
 ],
 "metadata": {
  "kernelspec": {
   "display_name": "Python 3",
   "language": "python",
   "name": "python3"
  },
  "language_info": {
   "codemirror_mode": {
    "name": "ipython",
    "version": 3
   },
   "file_extension": ".py",
   "mimetype": "text/x-python",
   "name": "python",
   "nbconvert_exporter": "python",
   "pygments_lexer": "ipython3",
   "version": "3.6.5"
  },
  "varInspector": {
   "cols": {
    "lenName": 16,
    "lenType": 16,
    "lenVar": 40
   },
   "kernels_config": {
    "python": {
     "delete_cmd_postfix": "",
     "delete_cmd_prefix": "del ",
     "library": "var_list.py",
     "varRefreshCmd": "print(var_dic_list())"
    },
    "r": {
     "delete_cmd_postfix": ") ",
     "delete_cmd_prefix": "rm(",
     "library": "var_list.r",
     "varRefreshCmd": "cat(var_dic_list()) "
    }
   },
   "oldHeight": 305,
   "position": {
    "height": "333px",
    "left": "711px",
    "right": "20px",
    "top": "127px",
    "width": "521px"
   },
   "types_to_exclude": [
    "module",
    "function",
    "builtin_function_or_method",
    "instance",
    "_Feature"
   ],
   "varInspector_section_display": "block",
   "window_display": false
  }
 },
 "nbformat": 4,
 "nbformat_minor": 1
}
