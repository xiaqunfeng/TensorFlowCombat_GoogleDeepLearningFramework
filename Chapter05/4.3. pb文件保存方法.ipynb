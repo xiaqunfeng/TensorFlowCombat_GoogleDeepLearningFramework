{
 "cells": [
  {
   "cell_type": "markdown",
   "metadata": {},
   "source": [
    "使用tf.train.Saver会保存运行tf程序所需要的全部信息。\n",
    "\n",
    "* 然而有时候并不需要某些信息。比如在测试或离线预测时，只需要知道如何从神经网络的输入层经过前向传播计算得到输出层即可，而不需要类似于变量初始化、模型保存等辅助节点信息。\n",
    "* 将变量取值和计算图结构分成不同的文件存储有时候也不方便。\n",
    "\n",
    "针对上述情况，tf提供了convert_variables_to_constants函数，通过该函数，可以将计算图中的变量及其取值通过常量的方式保存，这样整个tf计算图可以统一存放在一个文件中。\n",
    "\n",
    "在保存的时候，通过convert_variables_to_constants函数来指定保存的 **节点名称** 而不是张量的名称，“add:0”是张量的名称而\"add\"表示的是节点的名称。"
   ]
  },
  {
   "cell_type": "markdown",
   "metadata": {},
   "source": [
    "#### 1. pb文件的保存方法。"
   ]
  },
  {
   "cell_type": "code",
   "execution_count": 1,
   "metadata": {},
   "outputs": [
    {
     "name": "stdout",
     "output_type": "stream",
     "text": [
      "INFO:tensorflow:Froze 2 variables.\n",
      "INFO:tensorflow:Converted 2 variables to const ops.\n"
     ]
    }
   ],
   "source": [
    "import tensorflow as tf\n",
    "from tensorflow.python.framework import graph_util\n",
    "\n",
    "v1 = tf.Variable(tf.constant(1.0, shape=[1]), name = \"v1\")\n",
    "v2 = tf.Variable(tf.constant(2.0, shape=[1]), name = \"v2\")\n",
    "result = v1 + v2\n",
    "\n",
    "init_op = tf.global_variables_initializer()\n",
    "with tf.Session() as sess:\n",
    "    sess.run(init_op)\n",
    "    # 导出当前计算图的GraphDef部分，只需要这一部分就可以完成从输入层到输出层的计算过程\n",
    "    graph_def = tf.get_default_graph().as_graph_def()\n",
    "    # 将图中的变量及其取值转化为常量，同时将不必要的节点去掉。注意‘add’是节点名称\n",
    "    output_graph_def = graph_util.convert_variables_to_constants(sess, graph_def, ['add'])\n",
    "    # 将导出的模型存入文件\n",
    "    with tf.gfile.GFile(\"Saved_model/combined_model.pb\", \"wb\") as f:\n",
    "           f.write(output_graph_def.SerializeToString())"
   ]
  },
  {
   "cell_type": "markdown",
   "metadata": {},
   "source": [
    "#### 2. 加载pb文件。\n",
    "在读取模型文件获取变量的值的时候，我们需要指定的是 **张量的名称** 而不是节点的名称"
   ]
  },
  {
   "cell_type": "code",
   "execution_count": 2,
   "metadata": {},
   "outputs": [
    {
     "name": "stdout",
     "output_type": "stream",
     "text": [
      "[array([3.], dtype=float32)]\n"
     ]
    }
   ],
   "source": [
    "from tensorflow.python.platform import gfile\n",
    "with tf.Session() as sess:\n",
    "    model_filename = \"Saved_model/combined_model.pb\"\n",
    "   \n",
    "    # 读取保存的模型文件，并将文件解析成对应的GraphDef Protocol Buffer\n",
    "    with gfile.FastGFile(model_filename, 'rb') as f:\n",
    "        graph_def = tf.GraphDef()\n",
    "        graph_def.ParseFromString(f.read())\n",
    "    \n",
    "    # 将graph_def中保存的图加载到当前图中。注意‘add:0’是张量名称\n",
    "    result = tf.import_graph_def(graph_def, return_elements=[\"add:0\"])\n",
    "    print(sess.run(result))"
   ]
  },
  {
   "cell_type": "code",
   "execution_count": null,
   "metadata": {},
   "outputs": [],
   "source": []
  }
 ],
 "metadata": {
  "kernelspec": {
   "display_name": "Python 3",
   "language": "python",
   "name": "python3"
  },
  "language_info": {
   "codemirror_mode": {
    "name": "ipython",
    "version": 3
   },
   "file_extension": ".py",
   "mimetype": "text/x-python",
   "name": "python",
   "nbconvert_exporter": "python",
   "pygments_lexer": "ipython3",
   "version": "3.6.5"
  },
  "varInspector": {
   "cols": {
    "lenName": 16,
    "lenType": 16,
    "lenVar": 40
   },
   "kernels_config": {
    "python": {
     "delete_cmd_postfix": "",
     "delete_cmd_prefix": "del ",
     "library": "var_list.py",
     "varRefreshCmd": "print(var_dic_list())"
    },
    "r": {
     "delete_cmd_postfix": ") ",
     "delete_cmd_prefix": "rm(",
     "library": "var_list.r",
     "varRefreshCmd": "cat(var_dic_list()) "
    }
   },
   "types_to_exclude": [
    "module",
    "function",
    "builtin_function_or_method",
    "instance",
    "_Feature"
   ],
   "window_display": false
  }
 },
 "nbformat": 4,
 "nbformat_minor": 1
}
