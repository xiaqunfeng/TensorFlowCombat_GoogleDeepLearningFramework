{
 "cells": [
  {
   "cell_type": "code",
   "execution_count": 1,
   "metadata": {},
   "outputs": [],
   "source": [
    "import tensorflow as tf"
   ]
  },
  {
   "cell_type": "markdown",
   "metadata": {},
   "source": [
    "#### 1. 保存计算两个变量和的模型。"
   ]
  },
  {
   "cell_type": "code",
   "execution_count": 2,
   "metadata": {},
   "outputs": [],
   "source": [
    "v1 = tf.Variable(tf.constant(1.0, shape=[1]), name = \"v1\")\n",
    "v2 = tf.Variable(tf.constant(2.0, shape=[1]), name = \"v2\")\n",
    "result = v1 + v2\n",
    "\n",
    "init_op = tf.global_variables_initializer()\n",
    "# 声明tf.train.Saver类用于保存模型\n",
    "# 可以指定saver保存什么变量，如果只保存v1，那么下边要恢复result就会出错，因为缺少v2\n",
    "saver = tf.train.Saver()\n",
    "\n",
    "with tf.Session() as sess:\n",
    "    sess.run(init_op)\n",
    "    saver.save(sess, \"Saved_model/model.ckpt\")\n",
    "    writer = tf.summary.FileWriter('Saved_Graph',graph=tf.get_default_graph())\n",
    "    writer.close()"
   ]
  },
  {
   "cell_type": "markdown",
   "metadata": {},
   "source": [
    "上述代码在Saved_model文件夹下生成4个文件：\n",
    "\n",
    "```\n",
    "▶ tree Saved_model\n",
    "Saved_model\n",
    "├── checkpoint\n",
    "├── model.ckpt.data-00000-of-00001\n",
    "├── model.ckpt.index\n",
    "└── model.ckpt.meta\n",
    "```\n",
    "\n",
    "* meta文件：包含tf计算图的结构，包含变量、op、集合等信息\n",
    "* cpkt文件：二进制文件，保存了网络中所有权重、偏置等变量数值，分为两个文件:\n",
    "  * 一个是.data-00000-of-00001 文件\n",
    "  * 一个是.index 文件\n",
    "* checkpoint文件：文本文件，记录了最新保持的5个模型文件列表"
   ]
  },
  {
   "cell_type": "code",
   "execution_count": null,
   "metadata": {},
   "outputs": [
    {
     "name": "stdout",
     "output_type": "stream",
     "text": [
      "\u001b[33mW0905 10:47:11.151640 Reloader tf_logging.py:120] Found more than one graph event per run, or there was a metagraph containing a graph_def, as well as one or more graph events.  Overwriting the graph with the newest event.\n",
      "\u001b[0mW0905 10:47:11.151640 123145422454784 tf_logging.py:120] Found more than one graph event per run, or there was a metagraph containing a graph_def, as well as one or more graph events.  Overwriting the graph with the newest event.\n",
      "\u001b[33mW0905 10:47:11.152345 Reloader tf_logging.py:120] Found more than one metagraph event per run. Overwriting the metagraph with the newest event.\n",
      "\u001b[0mW0905 10:47:11.152345 123145422454784 tf_logging.py:120] Found more than one metagraph event per run. Overwriting the metagraph with the newest event.\n",
      "\u001b[33mW0905 10:47:11.162157 Reloader tf_logging.py:120] Found more than one graph event per run, or there was a metagraph containing a graph_def, as well as one or more graph events.  Overwriting the graph with the newest event.\n",
      "\u001b[0mW0905 10:47:11.162157 123145422454784 tf_logging.py:120] Found more than one graph event per run, or there was a metagraph containing a graph_def, as well as one or more graph events.  Overwriting the graph with the newest event.\n",
      "\u001b[33mW0905 10:47:11.162424 Reloader tf_logging.py:120] Found more than one metagraph event per run. Overwriting the metagraph with the newest event.\n",
      "\u001b[0mW0905 10:47:11.162424 123145422454784 tf_logging.py:120] Found more than one metagraph event per run. Overwriting the metagraph with the newest event.\n",
      "TensorBoard 1.10.0 at http://xiaqunfengdeMacBook-Pro.local:6006 (Press CTRL+C to quit)\n"
     ]
    }
   ],
   "source": [
    "!tensorboard --logdir=Saved_Graph"
   ]
  },
  {
   "cell_type": "markdown",
   "metadata": {},
   "source": [
    "在浏览器上输入网址：127.0.0.1:6006 即可进入tensorboard\n",
    "\n",
    "图片展示如下：\n",
    "![image](image/4.1_Saved_Graph.png)"
   ]
  },
  {
   "cell_type": "markdown",
   "metadata": {},
   "source": [
    "#### 2. 加载保存了两个变量和的模型。\n",
    "代码和上面保存模型基本一样，先定义计算图上的运算，并声明了一个tf.train.Saver类。\n",
    "\n",
    "不同点在于，加载模型的代码中没有运行变量的初始化过程，而是将变量的值通过保存的模型加载出来。\n",
    "\n",
    "默认保存和加载了tf计算图上定义的全部变量。\n",
    "\n",
    "**加载部分变量**\n",
    "\n",
    "保存和加载部分变量，在声明tf.train.Saver类时可以提供一个列表来指定需要保存或加载的变量。\n",
    "```\n",
    "tf.train.Saver([v1])\n",
    "```\n",
    "这里只有v1会被加载进来，\n",
    "\n",
    "```\n",
    "FailedPreconditionError: Attempting to use uninitialized value v2\n",
    "```\n",
    "\n",
    "**注意**：在 saver.restore()加载的前面，需要添加 `tf.reset_default_graph()`，作用是 清除默认图的堆栈，并设置全局图为默认图"
   ]
  },
  {
   "cell_type": "code",
   "execution_count": 7,
   "metadata": {},
   "outputs": [
    {
     "name": "stdout",
     "output_type": "stream",
     "text": [
      "INFO:tensorflow:Restoring parameters from Saved_model/model.ckpt\n",
      "[3.]\n"
     ]
    }
   ],
   "source": [
    "# 清除默认图的堆栈，并设置全局图为默认图 \n",
    "tf.reset_default_graph()\n",
    "\n",
    "v1 = tf.Variable(tf.constant(1.0, shape=[1]), name = \"v1\")\n",
    "v2 = tf.Variable(tf.constant(2.0, shape=[1]), name = \"v2\")\n",
    "result = v1 + v2\n",
    "\n",
    "saver = tf.train.Saver()\n",
    "#saver = tf.train.Saver([v1])\n",
    "\n",
    "with tf.Session() as sess:\n",
    "    saver.restore(sess, \"Saved_model/model.ckpt\")\n",
    "    print(result.eval())"
   ]
  },
  {
   "cell_type": "markdown",
   "metadata": {},
   "source": [
    "#### 3. 如果不希望重复定义图上的运算，可以直接加载持久化的图：tf.train.import_meta_graph。"
   ]
  },
  {
   "cell_type": "code",
   "execution_count": 8,
   "metadata": {},
   "outputs": [
    {
     "name": "stdout",
     "output_type": "stream",
     "text": [
      "INFO:tensorflow:Restoring parameters from Saved_model/model.ckpt\n",
      "[3.]\n"
     ]
    }
   ],
   "source": [
    "# 清除默认图的堆栈，并设置全局图为默认图 \n",
    "tf.reset_default_graph()\n",
    "\n",
    "saver = tf.train.import_meta_graph(\"Saved_model/model.ckpt.meta\")\n",
    "with tf.Session() as sess:\n",
    "    saver.restore(sess, \"Saved_model/model.ckpt\")\n",
    "    print(sess.run(tf.get_default_graph().get_tensor_by_name(\"add:0\")))"
   ]
  },
  {
   "cell_type": "markdown",
   "metadata": {},
   "source": [
    "#### 4. 变量重命名。\n",
    "除了可以选取需要被加载的变量，tf.train.Saver类也支持在保存或加载时给变量重命名。"
   ]
  },
  {
   "cell_type": "code",
   "execution_count": 13,
   "metadata": {},
   "outputs": [
    {
     "name": "stdout",
     "output_type": "stream",
     "text": [
      "INFO:tensorflow:Restoring parameters from Saved_model/model.ckpt\n",
      "[3.]\n"
     ]
    }
   ],
   "source": [
    "# 声明的变量名和已保存模型中变量名不同\n",
    "v1 = tf.Variable(tf.constant(1.0, shape=[1]), name = \"other-v1\")\n",
    "v2 = tf.Variable(tf.constant(2.0, shape=[1]), name = \"other-v2\")\n",
    "result = v1 + v2\n",
    "\n",
    "# 如果直接加载，会出现变量找不到的错误\n",
    "# NotFoundError: Key other-v1 not found in checkpoint\n",
    "# saver = tf.train.Saver()\n",
    "\n",
    "# 对变量重命名后可以找到\n",
    "saver = tf.train.Saver({\"v1\": v1, \"v2\": v2})\n",
    "\n",
    "with tf.Session() as sess:\n",
    "    saver.restore(sess, \"Saved_model/model.ckpt\")\n",
    "    print(result.eval())"
   ]
  }
 ],
 "metadata": {
  "kernelspec": {
   "display_name": "Python 3",
   "language": "python",
   "name": "python3"
  },
  "language_info": {
   "codemirror_mode": {
    "name": "ipython",
    "version": 3
   },
   "file_extension": ".py",
   "mimetype": "text/x-python",
   "name": "python",
   "nbconvert_exporter": "python",
   "pygments_lexer": "ipython3",
   "version": "3.6.5"
  },
  "varInspector": {
   "cols": {
    "lenName": 16,
    "lenType": 16,
    "lenVar": 40
   },
   "kernels_config": {
    "python": {
     "delete_cmd_postfix": "",
     "delete_cmd_prefix": "del ",
     "library": "var_list.py",
     "varRefreshCmd": "print(var_dic_list())"
    },
    "r": {
     "delete_cmd_postfix": ") ",
     "delete_cmd_prefix": "rm(",
     "library": "var_list.r",
     "varRefreshCmd": "cat(var_dic_list()) "
    }
   },
   "types_to_exclude": [
    "module",
    "function",
    "builtin_function_or_method",
    "instance",
    "_Feature"
   ],
   "window_display": false
  }
 },
 "nbformat": 4,
 "nbformat_minor": 1
}
